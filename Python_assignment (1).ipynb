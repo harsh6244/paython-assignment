{
  "nbformat": 4,
  "nbformat_minor": 0,
  "metadata": {
    "colab": {
      "provenance": []
    },
    "kernelspec": {
      "name": "python3",
      "display_name": "Python 3"
    },
    "language_info": {
      "name": "python"
    }
  },
  "cells": [
    {
      "cell_type": "markdown",
      "source": [
        "#PYTHON"
      ],
      "metadata": {
        "id": "id6EJB1drTXN"
      }
    },
    {
      "cell_type": "markdown",
      "source": [
        "**1. What is Python, and why is it popular ?**\n",
        "- Python is a high-level, interpreted programming language known for its simplicity and readability. It was created by Guido van Rossum and first released in 1991.\n",
        "- Here are the key reasons:\n",
        "1.Easy to Learn and Use\n",
        "- Python’s syntax is clear and resembles plain English.\n",
        "- Ideal for beginners in programming.\n",
        "2.Versatile and Powerful\n",
        "- Used in many fields: web development, data science, machine learning, automation, game development, and more.\n",
        "3.Extensive Libraries and Frameworks\n",
        "- Huge collection of libraries (like NumPy, pandas, TensorFlow, Django) that save time and effort.\n",
        "4.Large Community Support\n",
        "- A large, active community helps with continuous development and support.\n",
        "Many tutorials and forums available.\n",
        "5.Cross-platform Compatibility\n",
        "- Python runs on Windows, macOS, Linux, and other platforms.\n",
        "6.Integration Capabilities\n",
        "- Can integrate with other languages like C/C++, Java, and .NET.\n",
        "Supports various data formats and databases.\n",
        "7.Used by Top Companies\n",
        "- Popular with companies like Google, Netflix, Instagram, Spotify, and NASA.\n",
        "\n"
      ],
      "metadata": {
        "id": "t2Z_tIWoW1ur"
      }
    },
    {
      "cell_type": "markdown",
      "source": [
        "**2.What is an interpreter in Python ?**\n",
        " - An interpreter in Python is a program that reads and executes Python code line by line.\n",
        "\n",
        "- When you write a Python script (a .py file), it contains high-level code that humans can read but computers cannot directly understand. The Python interpreter translates this code into machine-understandable instructions one line at a time and executes them.\n",
        "\n"
      ],
      "metadata": {
        "id": "OivHCslRW4Bc"
      }
    },
    {
      "cell_type": "markdown",
      "source": [
        "**3. What are pre-defined keywords in Python ?**\n",
        "- Pre-defined keywords in Python are reserved words that have special meaning in the language.\n",
        "You cannot use these words as variable names, function names, or identifiers because they are part of Python's syntax and structure.\n",
        "- They define how the language works.\n",
        "- They represent control flow, data types, logical operators, etc."
      ],
      "metadata": {
        "id": "cbMaGYSUfbcq"
      }
    },
    {
      "cell_type": "markdown",
      "source": [
        "**4. Can keywords be used as variable names ?**\n",
        "- No — keywords cannot be used as variable names in Python.\n",
        "- Keywords are reserved for specific parts of Python’s syntax (like if, for, class, return, etc.).\n",
        "- If you try to use a keyword as a variable name, Python will throw an error, because the interpreter will get confused between the keyword’s meaning and the variable name.\n",
        "\n",
        "**5. What is mutability in Python ?**\n",
        "- Mutability in Python refers to an object’s ability to have its contents changed (modified) after it is created.\n",
        "- If an object can be changed, it is called mutable.\n",
        "- If an object cannot be changed after creation, it is called immutable\n",
        "- It affects how variables behave when passed to functions or when copied.\n",
        "- Mutable objects can be updated without changing their identity (memory location).\n",
        "- Immutable objects require creating a new object to represent a new value.\n",
        "\n",
        "**6. Why are lists mutable, but tuples are immutable ?**\n",
        "-  Lists are mutable because they are designed to be dynamic containers.\n",
        "You often use lists when you need to add, remove, or change items.Internally, Python stores lists in a way that supports this flexibility.\n",
        "- Tuples are immutable because they are meant to be fixed collections of items. Use tuples when you want data to be constant and safe from accidental changes. Tuples can be used as keys in dictionaries (because they are immutable), while lists cannot.\n",
        "\n",
        "**7. What is the difference between “==” and “is” operators in Python ?**\n",
        "-  == → Equality operator, Checks if the values of two objects are the same. It does not care whether they are the same object in memory — just whether their contents are equal.\n",
        "- is → Identity operator\n",
        "Checks if two variables refer to the exact same object in memory (same identity). Even if two objects look the same, if they are stored in different memory locations, is will return False.\n",
        "\n",
        "**8. What are logical operators in Python ?**\n",
        "- Logical operators in Python are used to combine or manipulate Boolean values (True or False) to make decisions in your code — especially in conditions and loops.\n",
        "\n",
        "**9. What is type casting in Python ?**\n",
        "- Type casting in Python means converting a value from one data type to another.\n",
        "- For example:\n",
        "- Converting a string to an integer\n",
        "- Converting an integer to a float\n",
        "- Converting a list to a tuple, and so on.\n",
        "-  Implicit Type Casting (automatic) - Done automatically by Python. Happens when there is no risk of data loss.\n",
        "- Explicit Type Casting (manual) - You tell Python to convert the type. You use built-in functions like:\n",
        "\n",
        "**10. What is the difference between implicit and explicit type casting ?**\n",
        "- Implicit Type Casting (Automatic Conversion) - Done automatically by Python without your intervention. Happens when Python converts one data type to another to avoid data loss or errors during operations. Usually occurs between compatible types (like int to float). Don’t write any special code for it; Python handles it behind the scenes.\n",
        "- Explicit Type Casting (Manual Conversion) - You manually convert a value from one type to another using type conversion functions like int(), float(), str(), etc. You do this when you want to force the conversion, even if Python won’t do it automatically. Necessary when working with incompatible types or when reading input (which is always a string).\n",
        "\n",
        "**11. What is the purpose of conditional statements in Python ?**\n",
        "- Conditional statements in Python are used to make decisions in your code — they let the program choose different actions based on whether a condition is true or false.\n",
        "\n",
        "- Purpose of Conditional Statements:\n",
        "- To control the flow of your program.\n",
        "- To execute certain blocks of code only if a specific condition is met.\n",
        "- To allow your program to respond differently to different inputs or situations.\n",
        "\n",
        "**12. How does the elif statement work ?**\n",
        "- elif stands for “else if”. It allows you to check multiple conditions, one after another. You can think of it as a way to add more choices after an initial if check\n",
        "- Python checks the first if condition.\n",
        "- If that condition is True, it runs that block and skips all others.\n",
        "- If the first if is False, it checks the first elif condition.\n",
        "- If that elif is True, it runs its block and skips the rest.\n",
        "- You can have multiple elif statements.\n",
        "- If none of the if or elif conditions are True, it runs the optional else block (if present).\n",
        "\n",
        "**13.  What is the difference between for and while loops ?**\n",
        "- for loop- Used when you know in advance how many times you want to repeat something. Iterates over a sequence (like a list, tuple, string, or range). Runs the loop body once for each item in the sequence.\n",
        "- while loop - Used when you want to repeat something as long as a condition is true. You may not know upfront how many times the loop will run. Keeps looping until the condition becomes False.\n",
        "\n",
        "**14. Describe a scenario where a while loop is more suitable than a for loop. ?**\n",
        "- Scenario: User Authentication Attempts\n",
        "Imagine you’re writing a program that asks the user to enter their password. You want to keep prompting the user until they enter the correct password or reach a maximum number of attempts. You don’t know in advance how many tries the user will take. You want to keep checking until the condition (correct password) is met or attempts run out.\n",
        "\n",
        "-  while loop fits better\n",
        "Because you keep looping based on a condition, not a fixed number of times. You want to stop immediately once the password is correct (which could happen anytime). You also want to limit the number of attempts to avoid infinite loops.\n",
        "-  Not for loop here - You could use a for loop for counting attempts, but: The loop must break early if the password is correct. while expresses the intent \"keep asking while the password is incorrect and attempts remain\" more clearly."
      ],
      "metadata": {
        "id": "q_TU78f4gLTl"
      }
    },
    {
      "cell_type": "markdown",
      "source": [],
      "metadata": {
        "id": "rxinO8XUgQkc"
      }
    }
  ]
}